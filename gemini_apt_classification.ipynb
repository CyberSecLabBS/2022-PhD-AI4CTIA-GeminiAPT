{
 "cells": [
  {
   "cell_type": "markdown",
   "id": "c837efe8",
   "metadata": {},
   "source": [
    "# The problem of binary similarity"
   ]
  },
  {
   "cell_type": "markdown",
   "id": "deeca356",
   "metadata": {},
   "source": [
    "The problem of binary similarity consists of determining if two pieces of binary software are compiled starting from the same source code and it can be addressed at different levels of analysis: basic blocks, functions or whole binary.  Binary similarity is a problem of interest in many software analysis fields: plagiarism detection, malware detection/classification, vulnerability detection.\n",
    "\n",
    "Due to the high number of modifications performed by the compiler during the compilation phase, binary similarity is far from being a trivial operation. Indeed, if the same source code is compiled using two different compilers, it is likely that the two produced binaries are different.\n",
    "\n",
    "In this work we analyze binaries at function level, exploring the function binary similarity problem. In particular, we are interested in checking if a model for function binary similarity trained only on benign software can give enough information at program level helping to distinguish between APT malware belonging to different APT groups."
   ]
  },
  {
   "cell_type": "markdown",
   "id": "63714840",
   "metadata": {},
   "source": [
    "## Current solutions"
   ]
  },
  {
   "cell_type": "markdown",
   "id": "9d344dc7",
   "metadata": {},
   "source": [
    "Solutions for function binary similarity can be essentially distinguished in the ones that use deep neural-networks [1, 2, 3] and the ones that do not [4, 5, 6]. Most recent solutions all propose approaches based on DNNs, since they shown state-of-the-are performance with low computational effort.\n",
    "\n",
    "Loosely speaking, deep learning models for function binary similarity trasform the input into a fixed-size vector of real values, called embedding, which can than be easily used for comparison. Indeed, functions can be represented into a vector space through their embeddings, which can then be compared using a distance function such as cosine similarity. Ideally, functions with a similar semantic are represented through embedding vectors that are close in the embedding space. Such solutions differ in the feature extraction process.\n",
    "\n",
    "We can distinguish between models using manual feature extraction and models that learn features automatically during the training process. In the first case, features are usually extracted from alternative representations of binary code (such as the control flow graph or the abstract syntax tree) since they carry some useful information about the semantic and the syntax of the input. In the latter, an embedding model (i.e., word2vec, glove, fasttext) is used for learning an embedding representation of assembly instructions. Then, such instruction embeddings are aggregated into the final function embedding vector. Ideally, instructions with a similar semantic are close in the embedding space."
   ]
  },
  {
   "cell_type": "markdown",
   "id": "8127bfce",
   "metadata": {},
   "source": [
    "## Gemini"
   ]
  },
  {
   "cell_type": "markdown",
   "id": "648d5feb",
   "metadata": {},
   "source": [
    "Gemini [2] is a neural network-based solution for generating binary functions embeddings starting from the ACFG (Attributed Control Flow Graph) representation of the input binary function; such structure is converted into an embedding vector using a Graph Embedding Network based on the Structure2Vec model.\n",
    "Each vertex of the ACFG consists of a numeric feature vector associated to the corresponding basic block in the CFG of the binary function. For each basic block the following features are extracted:\n",
    "1. number of constants;\n",
    "2. number of strings;\n",
    "3. number of transfer instructions (e.g., MOV);\n",
    "4. number of calls;\n",
    "5. number of instructions;\n",
    "6. number of arithmetic instructions (e.g., ADD);\n",
    "7. vertex off-springs;\n",
    "8. vertex betweenness centrality.\n",
    "\n",
    "The first six features are related to the binary code of the block while the last two depends on the structure of the CFG.\n",
    "\n",
    "Once generated a feature vector for each vertex of the CFG, they are aggregated using a graph neural network based on Structure2Vec. Here, vertex features are aggregated recursively according to graph topology; indeed, after a predetermined number of recursion steps, for each vertex the network produces a new feature vector considering both graph topology and interactions between vertex features. For each vertex, the embedding vectors are initialized at 0 and updated during each iteration using a non-linear propagation function. The parameters of such function are learned during the training process.\n",
    "\n",
    "The whole architecture is trained using a pairwise approach called Siamese network, which consists of two identical GNNs (sharing the same set of parameters) that are joined at the top using a distance function (i.e., the cosine similarity). Each GNN takes in input an ACFG and outputs its embedding, with the final output of the siamese network being the cosine distance between the two produced embeddings. The key point of this training process is that the learned parameters are suited to specifically address the problem of function binary similarity instead of pure classification.\n",
    "\n",
    "Gemini is trained using a set of 95535 graphs generated from the binaries contained in two OpenSSL versions (v1_0_1f - v_10_lu), compiled on x86 and ARM architectures using gcc5.4 with 4 optimization levels."
   ]
  },
  {
   "cell_type": "markdown",
   "id": "31248331",
   "metadata": {},
   "source": [
    "# APT classification"
   ]
  },
  {
   "cell_type": "markdown",
   "id": "d62fada7",
   "metadata": {},
   "source": [
    "Classify APT malwares according to their group provenance is an interesting task to investigate. Think about analysing an APT without having information about its provenance; if we were able to trace the APT back to a known group then the analysis would be easier. So, instruments like the models introduced before could help find APTs that are semantically similar to a given one; in this way, we can infer information about the unknown APT from the malware previously analyzed and belonging to its same group."
   ]
  },
  {
   "cell_type": "markdown",
   "id": "99867b63",
   "metadata": {},
   "source": [
    "## Gemini for program binary similarity"
   ]
  },
  {
   "cell_type": "markdown",
   "id": "49335b1c",
   "metadata": {},
   "source": [
    "### Program representation"
   ]
  },
  {
   "cell_type": "markdown",
   "id": "c2c283b6",
   "metadata": {},
   "source": [
    "As described before, Gemini is a DNN-based model for producing embeddings of binary functions. This means that we cannot obtain a direct representation of a malware, so an entire binary program, using such model. Nevertheless we can directly measure the similarity between two binary programs.\n",
    "\n",
    "A program $P_j$ composed by $n_j$ binary functions, can be described by the set of its binary functions embeddings, so:\n",
    "\n",
    "$$\n",
    "P_j = \\{\\vec{f_0}, \\vec{f_1}, ..., \\vec{f_{n_j}}\\}\n",
    "$$\n",
    "\n",
    "At this point we can define the similarity between two programs as a function of how many of the binary functions composing them are similar, using the embeddings produced by Gemini to calculate function binary similarity.\n",
    "\n",
    "Given a binary function $\\vec{f}$ and the program $P_j$ defined as before, we can define the following function indicating whether $P_j$ contains the function $\\vec{f}$:\n",
    "\n",
    "\\begin{equation}\n",
    "  \\alpha(\\vec{f}, P_j) =\n",
    "    \\begin{cases}\n",
    "      1 & \\text{if $\\exists$ $\\vec{f_x} \\in P_j$ s.t. $\\vec{f} \\cdot \\vec{f_x} > \\tau$}\\\\\n",
    "      0 & \\text{else}\n",
    "    \\end{cases}\n",
    "\\end{equation}\n",
    "\n",
    "where $\\tau$ is the similarity threshold and it is equal to 0.95.\n",
    "\n",
    "At this point we can define the similarity between two programs $P_i$ and $P_j$ as:\n",
    "\n",
    "$$\n",
    "S(P_i, P_j) = \\frac{\\sum_{\\forall \\vec{f} \\in P_i} \\alpha(\\vec{f}, P_j)}{max(|P_i|, |P_j|)}.\n",
    "$$"
   ]
  },
  {
   "cell_type": "markdown",
   "id": "e3a944cd",
   "metadata": {},
   "source": [
    "### Classify Programs"
   ]
  },
  {
   "cell_type": "markdown",
   "id": "2b76780c",
   "metadata": {},
   "source": [
    "Given a similarity measure as the one introduced before, we can use similarity-based classifiers [2] to estimate the group of a given APT sample based on the similarity between the given APT sample and a set of labeled training APT samples, and the pairwise similarities between the training examples.\n",
    "\n",
    "Even if we have introduced a similarity measure for binary programs, they cannot be described as entities of a metric space. This means that we cannot use standard approaches that treat dissimilarities as distances in some Euclidean space. The key idea is to use feature-based classification techniques, in which the sample that we want to classify is represented through its similarity feature vector, as pointed out in [2].  \n",
    "So, we select a subset of APTs that will be used as \"_base_\", while all the remaining samples will be represented as a vector of distances from the \"_base_\" programs."
   ]
  },
  {
   "cell_type": "markdown",
   "id": "ced51b87",
   "metadata": {},
   "source": [
    "# Load imports"
   ]
  },
  {
   "cell_type": "code",
   "execution_count": 1,
   "id": "07e5339b",
   "metadata": {},
   "outputs": [],
   "source": [
    "import pickle\n",
    "import os\n",
    "import numpy as np\n",
    "from tqdm import tqdm\n",
    "from sklearn import model_selection\n",
    "from sklearn import decomposition\n",
    "import networkx as nx\n",
    "from networkx.readwrite import write_gexf\n",
    "from sklearn.svm import SVC\n",
    "from sklearn import metrics\n",
    "from sklearn.model_selection import StratifiedKFold"
   ]
  },
  {
   "cell_type": "markdown",
   "id": "7cc1be54",
   "metadata": {},
   "source": [
    "# Dataset and loading of APT data"
   ]
  },
  {
   "cell_type": "markdown",
   "id": "63eeb184",
   "metadata": {},
   "source": [
    "## dAPTaset"
   ]
  },
  {
   "cell_type": "markdown",
   "id": "0027d4bc",
   "metadata": {},
   "source": [
    "We use the dataset from [7] for this experiment. Here we have a collection of data related to APTs retrieved from existing public sources. The main sources analyzed by the authors are MITRE ATT&CK, APT Groups and Operation spreadsheet by Florian Roth, APT Notes and MISP Galaxy Cluster. From the reports, the authors obtained an attribution for each APT in their dataset, removing all the samples having a doubtful attribution.\n",
    "\n",
    "We want to thank the authors of dAPTaset for providing us the APT binaries, since they are not available among the information contained in their GitHub repository.\n",
    "\n",
    "From the given binaries, we extracted a set of 1738 APTs and their corresponding groups, and then we disassembled them using radare2. We discarded all the functions recognized by radare2 as library functions. Then, we used Gemini trained as specified before for computing functions embeddings."
   ]
  },
  {
   "cell_type": "markdown",
   "id": "d7b0d528",
   "metadata": {},
   "source": [
    "### Download data"
   ]
  },
  {
   "cell_type": "markdown",
   "id": "3de0e3aa",
   "metadata": {},
   "source": [
    "The following code downloads directly the dataset required for training the classifier. In particular, for each analyzed APT, we precompute using Gemini the embeddings of the functions that compose it."
   ]
  },
  {
   "cell_type": "code",
   "execution_count": 2,
   "id": "56cbca27",
   "metadata": {},
   "outputs": [],
   "source": [
    "f = open(\"data/gemini_embs.pickle\", \"rb\")\n",
    "data = pickle.load(f)\n",
    "f.close()"
   ]
  },
  {
   "cell_type": "markdown",
   "id": "664ce0b3",
   "metadata": {},
   "source": [
    "We consider every function that can be analyzed using radare2 except library functions."
   ]
  },
  {
   "cell_type": "code",
   "execution_count": 3,
   "id": "7d44aa80",
   "metadata": {},
   "outputs": [
    {
     "name": "stdout",
     "output_type": "stream",
     "text": [
      "1738\n",
      "1738\n"
     ]
    }
   ],
   "source": [
    "apt = []\n",
    "file = []\n",
    "embeddings = []\n",
    "for k in data.keys():\n",
    "    emb = [f['embedding'] for f in data[k]['functions'] if f['num_nodes'] > 0]\n",
    "    emb = np.asarray(emb)\n",
    "    if emb.shape[0] > 0:\n",
    "        embeddings.append(emb)\n",
    "        apt.append(data[k]['apt'].replace(\"\\n\",\"\"))\n",
    "        file.append(k)\n",
    "print(len(apt))\n",
    "print(len(embeddings))\n",
    "        \n",
    "assert len(apt) == len(embeddings)"
   ]
  },
  {
   "cell_type": "markdown",
   "id": "d986ca37",
   "metadata": {},
   "source": [
    "# Test settings and results"
   ]
  },
  {
   "cell_type": "markdown",
   "id": "4614e1dc",
   "metadata": {},
   "source": [
    "We split in a random fashion our dataset in 5 folds having the same distribution of classes. During each esperiment, one folder is used as test, one as based and the remaining 3 as training. We tested all the possible 20 combinations."
   ]
  },
  {
   "cell_type": "code",
   "execution_count": 4,
   "id": "185b3493",
   "metadata": {},
   "outputs": [
    {
     "name": "stdout",
     "output_type": "stream",
     "text": [
      "1390\n",
      "348\n"
     ]
    }
   ],
   "source": [
    "skf = StratifiedKFold(n_splits=5, shuffle=True)\n",
    "train_fold = []\n",
    "test_fold = []\n",
    "fold = []\n",
    "for train_index, test_index in skf.split(embeddings, apt):\n",
    "    train_fold.append(train_index)\n",
    "    test_fold.append(test_index)\n",
    "    fold.append(test_index)\n",
    "    \n",
    "print(len(train_fold[0]))\n",
    "print(len(test_fold[0]))"
   ]
  },
  {
   "cell_type": "code",
   "execution_count": 5,
   "id": "495c3b27",
   "metadata": {},
   "outputs": [],
   "source": [
    "def project(sample, space, SIM_THRESHOLD=0.95):\n",
    "    projection = []\n",
    "    for j in range(0, len(space)):\n",
    "        dot = np.dot(sample, space[j].T)\n",
    "        dist = np.sum(np.sum(dot > SIM_THRESHOLD, axis=1) > 0) / max(sample.shape[0], space[j].shape[0])\n",
    "        projection.append(dist)\n",
    "    return projection"
   ]
  },
  {
   "cell_type": "markdown",
   "id": "52692ae7",
   "metadata": {},
   "source": [
    "## Do cross validation"
   ]
  },
  {
   "cell_type": "markdown",
   "id": "386b9c71",
   "metadata": {},
   "source": [
    "We train a SVM classifier over Gemini with _rbf_ kernel, $C = 100$ and $\\gamma = 0.1$."
   ]
  },
  {
   "cell_type": "code",
   "execution_count": 6,
   "id": "d23f124e",
   "metadata": {},
   "outputs": [
    {
     "name": "stderr",
     "output_type": "stream",
     "text": [
      "  1%|          | 11/1042 [00:00<00:09, 108.17it/s]"
     ]
    },
    {
     "name": "stdout",
     "output_type": "stream",
     "text": [
      "Val fold: 0\n",
      "Projection fold: 1 Train fold: {2, 3, 4}\n",
      "Projecting training data\n"
     ]
    },
    {
     "name": "stderr",
     "output_type": "stream",
     "text": [
      "100%|██████████| 1042/1042 [00:11<00:00, 91.65it/s]\n",
      "  3%|▎         | 10/348 [00:00<00:03, 89.82it/s]"
     ]
    },
    {
     "name": "stdout",
     "output_type": "stream",
     "text": [
      "Projecting validation data\n"
     ]
    },
    {
     "name": "stderr",
     "output_type": "stream",
     "text": [
      "100%|██████████| 348/348 [00:03<00:00, 94.70it/s] \n"
     ]
    },
    {
     "name": "stdout",
     "output_type": "stream",
     "text": [
      "Classification\n"
     ]
    },
    {
     "name": "stderr",
     "output_type": "stream",
     "text": [
      "  1%|          | 13/1042 [00:00<00:08, 117.22it/s]"
     ]
    },
    {
     "name": "stdout",
     "output_type": "stream",
     "text": [
      "Best C: 100, Best GAMMA: 0.1, Validation Accuracy 0.8505747126436781\n",
      "Projection fold: 2 Train fold: {1, 3, 4}\n",
      "Projecting training data\n"
     ]
    },
    {
     "name": "stderr",
     "output_type": "stream",
     "text": [
      "100%|██████████| 1042/1042 [00:11<00:00, 89.30it/s]\n",
      "  3%|▎         | 9/348 [00:00<00:03, 88.64it/s]"
     ]
    },
    {
     "name": "stdout",
     "output_type": "stream",
     "text": [
      "Projecting validation data\n"
     ]
    },
    {
     "name": "stderr",
     "output_type": "stream",
     "text": [
      "100%|██████████| 348/348 [00:03<00:00, 88.96it/s] \n"
     ]
    },
    {
     "name": "stdout",
     "output_type": "stream",
     "text": [
      "Classification\n"
     ]
    },
    {
     "name": "stderr",
     "output_type": "stream",
     "text": [
      "  1%|          | 9/1043 [00:00<00:13, 79.42it/s]"
     ]
    },
    {
     "name": "stdout",
     "output_type": "stream",
     "text": [
      "Best C: 100, Best GAMMA: 0.1, Validation Accuracy 0.8563218390804598\n",
      "Projection fold: 3 Train fold: {1, 2, 4}\n",
      "Projecting training data\n"
     ]
    },
    {
     "name": "stderr",
     "output_type": "stream",
     "text": [
      "100%|██████████| 1043/1043 [00:11<00:00, 88.91it/s]\n",
      "  3%|▎         | 11/348 [00:00<00:03, 106.10it/s]"
     ]
    },
    {
     "name": "stdout",
     "output_type": "stream",
     "text": [
      "Projecting validation data\n"
     ]
    },
    {
     "name": "stderr",
     "output_type": "stream",
     "text": [
      "100%|██████████| 348/348 [00:03<00:00, 90.84it/s] \n"
     ]
    },
    {
     "name": "stdout",
     "output_type": "stream",
     "text": [
      "Classification\n"
     ]
    },
    {
     "name": "stderr",
     "output_type": "stream",
     "text": [
      "  1%|          | 9/1043 [00:00<00:12, 85.00it/s]"
     ]
    },
    {
     "name": "stdout",
     "output_type": "stream",
     "text": [
      "Best C: 100, Best GAMMA: 0.1, Validation Accuracy 0.8390804597701149\n",
      "Projection fold: 4 Train fold: {1, 2, 3}\n",
      "Projecting training data\n"
     ]
    },
    {
     "name": "stderr",
     "output_type": "stream",
     "text": [
      "100%|██████████| 1043/1043 [00:11<00:00, 90.58it/s]\n",
      "  3%|▎         | 9/348 [00:00<00:03, 88.29it/s]"
     ]
    },
    {
     "name": "stdout",
     "output_type": "stream",
     "text": [
      "Projecting validation data\n"
     ]
    },
    {
     "name": "stderr",
     "output_type": "stream",
     "text": [
      "100%|██████████| 348/348 [00:03<00:00, 93.80it/s] \n"
     ]
    },
    {
     "name": "stdout",
     "output_type": "stream",
     "text": [
      "Classification\n"
     ]
    },
    {
     "name": "stderr",
     "output_type": "stream",
     "text": [
      "  1%|          | 13/1042 [00:00<00:08, 120.73it/s]"
     ]
    },
    {
     "name": "stdout",
     "output_type": "stream",
     "text": [
      "Best C: 100, Best GAMMA: 0.1, Validation Accuracy 0.8620689655172413\n",
      "Val fold: 1\n",
      "Projection fold: 0 Train fold: {2, 3, 4}\n",
      "Projecting training data\n"
     ]
    },
    {
     "name": "stderr",
     "output_type": "stream",
     "text": [
      "100%|██████████| 1042/1042 [00:11<00:00, 88.79it/s]\n",
      "  4%|▎         | 13/348 [00:00<00:02, 124.01it/s]"
     ]
    },
    {
     "name": "stdout",
     "output_type": "stream",
     "text": [
      "Projecting validation data\n"
     ]
    },
    {
     "name": "stderr",
     "output_type": "stream",
     "text": [
      "100%|██████████| 348/348 [00:03<00:00, 92.22it/s]\n"
     ]
    },
    {
     "name": "stdout",
     "output_type": "stream",
     "text": [
      "Classification\n",
      "Best C: 100, Best GAMMA: 0.1, Validation Accuracy 0.8160919540229885\n",
      "Projection fold: 2 Train fold: {0, 3, 4}\n",
      "Projecting training data\n"
     ]
    },
    {
     "name": "stderr",
     "output_type": "stream",
     "text": [
      "100%|██████████| 1042/1042 [00:11<00:00, 91.31it/s]\n",
      "  2%|▏         | 8/348 [00:00<00:04, 77.33it/s]"
     ]
    },
    {
     "name": "stdout",
     "output_type": "stream",
     "text": [
      "Projecting validation data\n"
     ]
    },
    {
     "name": "stderr",
     "output_type": "stream",
     "text": [
      "100%|██████████| 348/348 [00:03<00:00, 90.91it/s] \n"
     ]
    },
    {
     "name": "stdout",
     "output_type": "stream",
     "text": [
      "Classification\n"
     ]
    },
    {
     "name": "stderr",
     "output_type": "stream",
     "text": [
      "  1%|          | 13/1043 [00:00<00:08, 120.89it/s]"
     ]
    },
    {
     "name": "stdout",
     "output_type": "stream",
     "text": [
      "Best C: 100, Best GAMMA: 0.1, Validation Accuracy 0.8419540229885057\n",
      "Projection fold: 3 Train fold: {0, 2, 4}\n",
      "Projecting training data\n"
     ]
    },
    {
     "name": "stderr",
     "output_type": "stream",
     "text": [
      "100%|██████████| 1043/1043 [00:11<00:00, 91.66it/s]\n",
      "  3%|▎         | 11/348 [00:00<00:03, 106.74it/s]"
     ]
    },
    {
     "name": "stdout",
     "output_type": "stream",
     "text": [
      "Projecting validation data\n"
     ]
    },
    {
     "name": "stderr",
     "output_type": "stream",
     "text": [
      "100%|██████████| 348/348 [00:03<00:00, 88.61it/s]\n"
     ]
    },
    {
     "name": "stdout",
     "output_type": "stream",
     "text": [
      "Classification\n",
      "Best C: 100, Best GAMMA: 0.1, Validation Accuracy 0.8304597701149425\n",
      "Projection fold: 4 Train fold: {0, 2, 3}\n",
      "Projecting training data\n"
     ]
    },
    {
     "name": "stderr",
     "output_type": "stream",
     "text": [
      "100%|██████████| 1043/1043 [00:11<00:00, 93.82it/s]\n",
      "  3%|▎         | 9/348 [00:00<00:03, 85.26it/s]"
     ]
    },
    {
     "name": "stdout",
     "output_type": "stream",
     "text": [
      "Projecting validation data\n"
     ]
    },
    {
     "name": "stderr",
     "output_type": "stream",
     "text": [
      "100%|██████████| 348/348 [00:03<00:00, 94.60it/s] \n"
     ]
    },
    {
     "name": "stdout",
     "output_type": "stream",
     "text": [
      "Classification\n"
     ]
    },
    {
     "name": "stderr",
     "output_type": "stream",
     "text": [
      "  1%|          | 9/1042 [00:00<00:12, 83.63it/s]"
     ]
    },
    {
     "name": "stdout",
     "output_type": "stream",
     "text": [
      "Best C: 100, Best GAMMA: 0.1, Validation Accuracy 0.8563218390804598\n",
      "Val fold: 2\n",
      "Projection fold: 0 Train fold: {1, 3, 4}\n",
      "Projecting training data\n"
     ]
    },
    {
     "name": "stderr",
     "output_type": "stream",
     "text": [
      "100%|██████████| 1042/1042 [00:11<00:00, 91.79it/s]\n",
      "  3%|▎         | 11/348 [00:00<00:03, 107.36it/s]"
     ]
    },
    {
     "name": "stdout",
     "output_type": "stream",
     "text": [
      "Projecting validation data\n"
     ]
    },
    {
     "name": "stderr",
     "output_type": "stream",
     "text": [
      "100%|██████████| 348/348 [00:03<00:00, 88.04it/s] \n",
      "  0%|          | 0/1042 [00:00<?, ?it/s]"
     ]
    },
    {
     "name": "stdout",
     "output_type": "stream",
     "text": [
      "Classification\n",
      "Best C: 100, Best GAMMA: 0.1, Validation Accuracy 0.8936781609195402\n",
      "Projection fold: 1 Train fold: {0, 3, 4}\n",
      "Projecting training data\n"
     ]
    },
    {
     "name": "stderr",
     "output_type": "stream",
     "text": [
      "100%|██████████| 1042/1042 [00:11<00:00, 93.99it/s] \n",
      "  3%|▎         | 12/348 [00:00<00:02, 118.85it/s]"
     ]
    },
    {
     "name": "stdout",
     "output_type": "stream",
     "text": [
      "Projecting validation data\n"
     ]
    },
    {
     "name": "stderr",
     "output_type": "stream",
     "text": [
      "100%|██████████| 348/348 [00:04<00:00, 86.49it/s] \n"
     ]
    },
    {
     "name": "stdout",
     "output_type": "stream",
     "text": [
      "Classification\n",
      "Best C: 100, Best GAMMA: 0.1, Validation Accuracy 0.8735632183908046\n",
      "Projection fold: 3 Train fold: {0, 1, 4}\n",
      "Projecting training data\n"
     ]
    },
    {
     "name": "stderr",
     "output_type": "stream",
     "text": [
      "100%|██████████| 1043/1043 [00:11<00:00, 93.11it/s]\n",
      "  3%|▎         | 9/348 [00:00<00:04, 81.80it/s]"
     ]
    },
    {
     "name": "stdout",
     "output_type": "stream",
     "text": [
      "Projecting validation data\n"
     ]
    },
    {
     "name": "stderr",
     "output_type": "stream",
     "text": [
      "100%|██████████| 348/348 [00:03<00:00, 93.52it/s] \n"
     ]
    },
    {
     "name": "stdout",
     "output_type": "stream",
     "text": [
      "Classification\n"
     ]
    },
    {
     "name": "stderr",
     "output_type": "stream",
     "text": [
      "  2%|▏         | 16/1043 [00:00<00:06, 151.90it/s]"
     ]
    },
    {
     "name": "stdout",
     "output_type": "stream",
     "text": [
      "Best C: 100, Best GAMMA: 0.1, Validation Accuracy 0.8735632183908046\n",
      "Projection fold: 4 Train fold: {0, 1, 3}\n",
      "Projecting training data\n"
     ]
    },
    {
     "name": "stderr",
     "output_type": "stream",
     "text": [
      "100%|██████████| 1043/1043 [00:11<00:00, 90.90it/s]\n",
      "  3%|▎         | 10/348 [00:00<00:03, 89.07it/s]"
     ]
    },
    {
     "name": "stdout",
     "output_type": "stream",
     "text": [
      "Projecting validation data\n"
     ]
    },
    {
     "name": "stderr",
     "output_type": "stream",
     "text": [
      "100%|██████████| 348/348 [00:03<00:00, 91.34it/s] \n",
      "  0%|          | 0/1043 [00:00<?, ?it/s]"
     ]
    },
    {
     "name": "stdout",
     "output_type": "stream",
     "text": [
      "Classification\n",
      "Best C: 100, Best GAMMA: 0.1, Validation Accuracy 0.8620689655172413\n",
      "Val fold: 3\n",
      "Projection fold: 0 Train fold: {1, 2, 4}\n",
      "Projecting training data\n"
     ]
    },
    {
     "name": "stderr",
     "output_type": "stream",
     "text": [
      "100%|██████████| 1043/1043 [00:12<00:00, 86.03it/s]\n",
      "  3%|▎         | 9/347 [00:00<00:03, 86.88it/s]"
     ]
    },
    {
     "name": "stdout",
     "output_type": "stream",
     "text": [
      "Projecting validation data\n"
     ]
    },
    {
     "name": "stderr",
     "output_type": "stream",
     "text": [
      "100%|██████████| 347/347 [00:04<00:00, 84.84it/s]\n"
     ]
    },
    {
     "name": "stdout",
     "output_type": "stream",
     "text": [
      "Classification\n"
     ]
    },
    {
     "name": "stderr",
     "output_type": "stream",
     "text": [
      "  1%|          | 8/1043 [00:00<00:13, 78.96it/s]"
     ]
    },
    {
     "name": "stdout",
     "output_type": "stream",
     "text": [
      "Best C: 100, Best GAMMA: 0.1, Validation Accuracy 0.8472622478386167\n",
      "Projection fold: 1 Train fold: {0, 2, 4}\n",
      "Projecting training data\n"
     ]
    },
    {
     "name": "stderr",
     "output_type": "stream",
     "text": [
      "100%|██████████| 1043/1043 [00:11<00:00, 87.68it/s]\n",
      "  3%|▎         | 10/347 [00:00<00:03, 92.20it/s]"
     ]
    },
    {
     "name": "stdout",
     "output_type": "stream",
     "text": [
      "Projecting validation data\n"
     ]
    },
    {
     "name": "stderr",
     "output_type": "stream",
     "text": [
      "100%|██████████| 347/347 [00:03<00:00, 87.99it/s] \n"
     ]
    },
    {
     "name": "stdout",
     "output_type": "stream",
     "text": [
      "Classification\n"
     ]
    },
    {
     "name": "stderr",
     "output_type": "stream",
     "text": [
      "  1%|▏         | 14/1043 [00:00<00:07, 133.65it/s]"
     ]
    },
    {
     "name": "stdout",
     "output_type": "stream",
     "text": [
      "Best C: 100, Best GAMMA: 0.1, Validation Accuracy 0.8501440922190202\n",
      "Projection fold: 2 Train fold: {0, 1, 4}\n",
      "Projecting training data\n"
     ]
    },
    {
     "name": "stderr",
     "output_type": "stream",
     "text": [
      "100%|██████████| 1043/1043 [00:11<00:00, 89.33it/s]\n",
      "  3%|▎         | 9/347 [00:00<00:03, 86.75it/s]"
     ]
    },
    {
     "name": "stdout",
     "output_type": "stream",
     "text": [
      "Projecting validation data\n"
     ]
    },
    {
     "name": "stderr",
     "output_type": "stream",
     "text": [
      "100%|██████████| 347/347 [00:03<00:00, 87.49it/s] \n"
     ]
    },
    {
     "name": "stdout",
     "output_type": "stream",
     "text": [
      "Classification\n"
     ]
    },
    {
     "name": "stderr",
     "output_type": "stream",
     "text": [
      "  1%|▏         | 15/1044 [00:00<00:07, 141.61it/s]"
     ]
    },
    {
     "name": "stdout",
     "output_type": "stream",
     "text": [
      "Best C: 100, Best GAMMA: 0.1, Validation Accuracy 0.8587896253602305\n",
      "Projection fold: 4 Train fold: {0, 1, 2}\n",
      "Projecting training data\n"
     ]
    },
    {
     "name": "stderr",
     "output_type": "stream",
     "text": [
      "100%|██████████| 1044/1044 [00:11<00:00, 91.40it/s]\n",
      "  3%|▎         | 11/347 [00:00<00:03, 104.38it/s]"
     ]
    },
    {
     "name": "stdout",
     "output_type": "stream",
     "text": [
      "Projecting validation data\n"
     ]
    },
    {
     "name": "stderr",
     "output_type": "stream",
     "text": [
      "100%|██████████| 347/347 [00:03<00:00, 87.39it/s] \n"
     ]
    },
    {
     "name": "stdout",
     "output_type": "stream",
     "text": [
      "Classification\n"
     ]
    },
    {
     "name": "stderr",
     "output_type": "stream",
     "text": [
      "  1%|          | 8/1043 [00:00<00:14, 73.89it/s]"
     ]
    },
    {
     "name": "stdout",
     "output_type": "stream",
     "text": [
      "Best C: 100, Best GAMMA: 0.1, Validation Accuracy 0.8414985590778098\n",
      "Val fold: 4\n",
      "Projection fold: 0 Train fold: {1, 2, 3}\n",
      "Projecting training data\n"
     ]
    },
    {
     "name": "stderr",
     "output_type": "stream",
     "text": [
      "100%|██████████| 1043/1043 [00:18<00:00, 55.24it/s]\n",
      "  3%|▎         | 9/347 [00:00<00:03, 88.82it/s]"
     ]
    },
    {
     "name": "stdout",
     "output_type": "stream",
     "text": [
      "Projecting validation data\n"
     ]
    },
    {
     "name": "stderr",
     "output_type": "stream",
     "text": [
      "100%|██████████| 347/347 [00:03<00:00, 87.58it/s]\n"
     ]
    },
    {
     "name": "stdout",
     "output_type": "stream",
     "text": [
      "Classification\n"
     ]
    },
    {
     "name": "stderr",
     "output_type": "stream",
     "text": [
      "  2%|▏         | 16/1043 [00:00<00:06, 151.78it/s]"
     ]
    },
    {
     "name": "stdout",
     "output_type": "stream",
     "text": [
      "Best C: 100, Best GAMMA: 0.1, Validation Accuracy 0.8530259365994236\n",
      "Projection fold: 1 Train fold: {0, 2, 3}\n",
      "Projecting training data\n"
     ]
    },
    {
     "name": "stderr",
     "output_type": "stream",
     "text": [
      "100%|██████████| 1043/1043 [00:10<00:00, 95.64it/s]\n",
      "  3%|▎         | 10/347 [00:00<00:03, 95.97it/s]"
     ]
    },
    {
     "name": "stdout",
     "output_type": "stream",
     "text": [
      "Projecting validation data\n"
     ]
    },
    {
     "name": "stderr",
     "output_type": "stream",
     "text": [
      "100%|██████████| 347/347 [00:03<00:00, 87.58it/s] \n"
     ]
    },
    {
     "name": "stdout",
     "output_type": "stream",
     "text": [
      "Classification\n"
     ]
    },
    {
     "name": "stderr",
     "output_type": "stream",
     "text": [
      "  2%|▏         | 16/1043 [00:00<00:06, 152.08it/s]"
     ]
    },
    {
     "name": "stdout",
     "output_type": "stream",
     "text": [
      "Best C: 100, Best GAMMA: 0.1, Validation Accuracy 0.8530259365994236\n",
      "Projection fold: 2 Train fold: {0, 1, 3}\n",
      "Projecting training data\n"
     ]
    },
    {
     "name": "stderr",
     "output_type": "stream",
     "text": [
      "100%|██████████| 1043/1043 [00:11<00:00, 92.23it/s]\n",
      "  3%|▎         | 9/347 [00:00<00:03, 85.75it/s]"
     ]
    },
    {
     "name": "stdout",
     "output_type": "stream",
     "text": [
      "Projecting validation data\n"
     ]
    },
    {
     "name": "stderr",
     "output_type": "stream",
     "text": [
      "100%|██████████| 347/347 [00:04<00:00, 85.85it/s] \n"
     ]
    },
    {
     "name": "stdout",
     "output_type": "stream",
     "text": [
      "Classification\n"
     ]
    },
    {
     "name": "stderr",
     "output_type": "stream",
     "text": [
      "  1%|          | 13/1044 [00:00<00:08, 128.38it/s]"
     ]
    },
    {
     "name": "stdout",
     "output_type": "stream",
     "text": [
      "Best C: 100, Best GAMMA: 0.1, Validation Accuracy 0.8270893371757925\n",
      "Projection fold: 3 Train fold: {0, 1, 2}\n",
      "Projecting training data\n"
     ]
    },
    {
     "name": "stderr",
     "output_type": "stream",
     "text": [
      "100%|██████████| 1044/1044 [00:11<00:00, 90.28it/s]\n",
      "  3%|▎         | 9/347 [00:00<00:04, 81.91it/s]"
     ]
    },
    {
     "name": "stdout",
     "output_type": "stream",
     "text": [
      "Projecting validation data\n"
     ]
    },
    {
     "name": "stderr",
     "output_type": "stream",
     "text": [
      "100%|██████████| 347/347 [00:03<00:00, 87.17it/s] \n"
     ]
    },
    {
     "name": "stdout",
     "output_type": "stream",
     "text": [
      "Classification\n",
      "Best C: 100, Best GAMMA: 0.1, Validation Accuracy 0.8386167146974063\n"
     ]
    }
   ],
   "source": [
    "C = 100\n",
    "gamma = 0.1\n",
    "\n",
    "result = []\n",
    "\n",
    "for i in range(0, 5):\n",
    "    print(\"Val fold: {}\".format(i))\n",
    "    val_emb = [embeddings[f] for f in fold[i]]\n",
    "    val_apt = [apt[f] for f in fold[i]]\n",
    "    for j in range(0, 5):\n",
    "        if i == j:\n",
    "            continue\n",
    "        projection_emb = [embeddings[f] for f in fold[j]]\n",
    "        train_fold = set(range(0,5)).difference(set([i,j]))\n",
    "        train_emb = []\n",
    "        train_apt = []\n",
    "        for ff in train_fold:\n",
    "            train_emb.extend([embeddings[f] for f in fold[ff]])\n",
    "            train_apt.extend([apt[f] for f in fold[ff]])\n",
    "        print(\"Projection fold: {} Train fold: {}\".format(j, train_fold))\n",
    "        print(\"Projecting training data\")\n",
    "        train_data = []\n",
    "        for k in tqdm(range(0, len(train_emb))):\n",
    "            train_data.append(project(train_emb[k], projection_emb))\n",
    "            \n",
    "        print(\"Projecting validation data\")\n",
    "        val_data = []\n",
    "        for k in tqdm(range(0, len(val_emb))):\n",
    "            val_data.append(project(val_emb[k], projection_emb))\n",
    "\n",
    "        max_acc = 0\n",
    "        best_c = None\n",
    "        best_gamma = None\n",
    "\n",
    "        print(\"Classification\")\n",
    "        \n",
    "        clf = SVC(C=C, gamma=gamma, kernel=\"rbf\")\n",
    "                \n",
    "        clf.fit(train_data, train_apt)\n",
    "        predictions = clf.predict(val_data)\n",
    "        acc = metrics.accuracy_score(val_apt, predictions)\n",
    "        if acc > max_acc:\n",
    "            best_c = C\n",
    "            best_gamma = gamma\n",
    "            best_predictions = predictions\n",
    "            max_acc = acc\n",
    "                    \n",
    "        print(\"Best C: {}, Best GAMMA: {}, Validation Accuracy {}\".format(best_c, best_gamma, max_acc))\n",
    "        \n",
    "        obj = {\n",
    "            \"val_fold\":i,\n",
    "            \"projection_fold\":j,\n",
    "            \"train_fold\":train_fold,\n",
    "            \"C\":best_c,\n",
    "            \"gamma\": best_gamma,\n",
    "            \"accuracy\": max_acc,\n",
    "            \"predictions\":best_predictions,\n",
    "            \"label\":val_apt\n",
    "        }\n",
    "        \n",
    "        result.append(obj)"
   ]
  },
  {
   "cell_type": "markdown",
   "id": "d8a5884d",
   "metadata": {},
   "source": [
    "## Save results"
   ]
  },
  {
   "cell_type": "code",
   "execution_count": 7,
   "id": "de23a817",
   "metadata": {},
   "outputs": [],
   "source": [
    "f = open('result_cross_val_svm.pkl','wb')\n",
    "pickle.dump(result, f)\n",
    "f.close()"
   ]
  },
  {
   "cell_type": "markdown",
   "id": "37eec88b",
   "metadata": {},
   "source": [
    "## Confusion matrix"
   ]
  },
  {
   "cell_type": "code",
   "execution_count": 8,
   "id": "c25845a3",
   "metadata": {
    "scrolled": true
   },
   "outputs": [
    {
     "name": "stderr",
     "output_type": "stream",
     "text": [
      "/home/adv_sim/anaconda3/lib/python3.8/site-packages/sklearn/metrics/_classification.py:1245: UndefinedMetricWarning: Recall and F-score are ill-defined and being set to 0.0 in labels with no true samples. Use `zero_division` parameter to control this behavior.\n",
      "  _warn_prf(average, modifier, msg_start, len(result))\n",
      "/home/adv_sim/anaconda3/lib/python3.8/site-packages/sklearn/metrics/_classification.py:1245: UndefinedMetricWarning: Recall and F-score are ill-defined and being set to 0.0 in labels with no true samples. Use `zero_division` parameter to control this behavior.\n",
      "  _warn_prf(average, modifier, msg_start, len(result))\n",
      "/home/adv_sim/anaconda3/lib/python3.8/site-packages/sklearn/metrics/_classification.py:1245: UndefinedMetricWarning: Recall and F-score are ill-defined and being set to 0.0 in labels with no true samples. Use `zero_division` parameter to control this behavior.\n",
      "  _warn_prf(average, modifier, msg_start, len(result))\n",
      "/home/adv_sim/anaconda3/lib/python3.8/site-packages/sklearn/metrics/_classification.py:1245: UndefinedMetricWarning: Recall and F-score are ill-defined and being set to 0.0 in labels with no true samples. Use `zero_division` parameter to control this behavior.\n",
      "  _warn_prf(average, modifier, msg_start, len(result))\n",
      "/home/adv_sim/anaconda3/lib/python3.8/site-packages/sklearn/metrics/_classification.py:1245: UndefinedMetricWarning: Recall and F-score are ill-defined and being set to 0.0 in labels with no true samples. Use `zero_division` parameter to control this behavior.\n",
      "  _warn_prf(average, modifier, msg_start, len(result))\n",
      "/home/adv_sim/anaconda3/lib/python3.8/site-packages/sklearn/metrics/_classification.py:1245: UndefinedMetricWarning: Recall and F-score are ill-defined and being set to 0.0 in labels with no true samples. Use `zero_division` parameter to control this behavior.\n",
      "  _warn_prf(average, modifier, msg_start, len(result))\n",
      "/home/adv_sim/anaconda3/lib/python3.8/site-packages/sklearn/metrics/_classification.py:1245: UndefinedMetricWarning: Recall and F-score are ill-defined and being set to 0.0 in labels with no true samples. Use `zero_division` parameter to control this behavior.\n",
      "  _warn_prf(average, modifier, msg_start, len(result))\n",
      "/home/adv_sim/anaconda3/lib/python3.8/site-packages/sklearn/metrics/_classification.py:1245: UndefinedMetricWarning: Recall and F-score are ill-defined and being set to 0.0 in labels with no true samples. Use `zero_division` parameter to control this behavior.\n",
      "  _warn_prf(average, modifier, msg_start, len(result))\n",
      "/home/adv_sim/anaconda3/lib/python3.8/site-packages/sklearn/metrics/_classification.py:1245: UndefinedMetricWarning: Recall and F-score are ill-defined and being set to 0.0 in labels with no true samples. Use `zero_division` parameter to control this behavior.\n",
      "  _warn_prf(average, modifier, msg_start, len(result))\n",
      "/home/adv_sim/anaconda3/lib/python3.8/site-packages/sklearn/metrics/_classification.py:1245: UndefinedMetricWarning: Recall and F-score are ill-defined and being set to 0.0 in labels with no true samples. Use `zero_division` parameter to control this behavior.\n",
      "  _warn_prf(average, modifier, msg_start, len(result))\n",
      "/home/adv_sim/anaconda3/lib/python3.8/site-packages/sklearn/metrics/_classification.py:1245: UndefinedMetricWarning: Recall and F-score are ill-defined and being set to 0.0 in labels with no true samples. Use `zero_division` parameter to control this behavior.\n",
      "  _warn_prf(average, modifier, msg_start, len(result))\n",
      "/home/adv_sim/anaconda3/lib/python3.8/site-packages/sklearn/metrics/_classification.py:1245: UndefinedMetricWarning: Recall and F-score are ill-defined and being set to 0.0 in labels with no true samples. Use `zero_division` parameter to control this behavior.\n",
      "  _warn_prf(average, modifier, msg_start, len(result))\n",
      "/home/adv_sim/anaconda3/lib/python3.8/site-packages/sklearn/metrics/_classification.py:1245: UndefinedMetricWarning: Recall and F-score are ill-defined and being set to 0.0 in labels with no true samples. Use `zero_division` parameter to control this behavior.\n",
      "  _warn_prf(average, modifier, msg_start, len(result))\n",
      "/home/adv_sim/anaconda3/lib/python3.8/site-packages/sklearn/metrics/_classification.py:1245: UndefinedMetricWarning: Recall and F-score are ill-defined and being set to 0.0 in labels with no true samples. Use `zero_division` parameter to control this behavior.\n",
      "  _warn_prf(average, modifier, msg_start, len(result))\n",
      "/home/adv_sim/anaconda3/lib/python3.8/site-packages/sklearn/metrics/_classification.py:1245: UndefinedMetricWarning: Recall and F-score are ill-defined and being set to 0.0 in labels with no true samples. Use `zero_division` parameter to control this behavior.\n",
      "  _warn_prf(average, modifier, msg_start, len(result))\n",
      "/home/adv_sim/anaconda3/lib/python3.8/site-packages/sklearn/metrics/_classification.py:1245: UndefinedMetricWarning: Recall and F-score are ill-defined and being set to 0.0 in labels with no true samples. Use `zero_division` parameter to control this behavior.\n",
      "  _warn_prf(average, modifier, msg_start, len(result))\n",
      "/home/adv_sim/anaconda3/lib/python3.8/site-packages/sklearn/metrics/_classification.py:1245: UndefinedMetricWarning: Recall and F-score are ill-defined and being set to 0.0 in labels with no true samples. Use `zero_division` parameter to control this behavior.\n",
      "  _warn_prf(average, modifier, msg_start, len(result))\n",
      "/home/adv_sim/anaconda3/lib/python3.8/site-packages/sklearn/metrics/_classification.py:1245: UndefinedMetricWarning: Recall and F-score are ill-defined and being set to 0.0 in labels with no true samples. Use `zero_division` parameter to control this behavior.\n",
      "  _warn_prf(average, modifier, msg_start, len(result))\n",
      "/home/adv_sim/anaconda3/lib/python3.8/site-packages/sklearn/metrics/_classification.py:1245: UndefinedMetricWarning: Recall and F-score are ill-defined and being set to 0.0 in labels with no true samples. Use `zero_division` parameter to control this behavior.\n",
      "  _warn_prf(average, modifier, msg_start, len(result))\n",
      "/home/adv_sim/anaconda3/lib/python3.8/site-packages/sklearn/metrics/_classification.py:1245: UndefinedMetricWarning: Recall and F-score are ill-defined and being set to 0.0 in labels with no true samples. Use `zero_division` parameter to control this behavior.\n",
      "  _warn_prf(average, modifier, msg_start, len(result))\n",
      "/home/adv_sim/anaconda3/lib/python3.8/site-packages/sklearn/metrics/_classification.py:1245: UndefinedMetricWarning: Recall and F-score are ill-defined and being set to 0.0 in labels with no true samples. Use `zero_division` parameter to control this behavior.\n",
      "  _warn_prf(average, modifier, msg_start, len(result))\n",
      "/home/adv_sim/anaconda3/lib/python3.8/site-packages/sklearn/metrics/_classification.py:1245: UndefinedMetricWarning: Recall and F-score are ill-defined and being set to 0.0 in labels with no true samples. Use `zero_division` parameter to control this behavior.\n",
      "  _warn_prf(average, modifier, msg_start, len(result))\n",
      "/home/adv_sim/anaconda3/lib/python3.8/site-packages/sklearn/metrics/_classification.py:1245: UndefinedMetricWarning: Recall and F-score are ill-defined and being set to 0.0 in labels with no true samples. Use `zero_division` parameter to control this behavior.\n",
      "  _warn_prf(average, modifier, msg_start, len(result))\n",
      "/home/adv_sim/anaconda3/lib/python3.8/site-packages/sklearn/metrics/_classification.py:1245: UndefinedMetricWarning: Recall and F-score are ill-defined and being set to 0.0 in labels with no true samples. Use `zero_division` parameter to control this behavior.\n",
      "  _warn_prf(average, modifier, msg_start, len(result))\n",
      "/home/adv_sim/anaconda3/lib/python3.8/site-packages/sklearn/metrics/_classification.py:1245: UndefinedMetricWarning: Recall and F-score are ill-defined and being set to 0.0 in labels with no true samples. Use `zero_division` parameter to control this behavior.\n",
      "  _warn_prf(average, modifier, msg_start, len(result))\n",
      "/home/adv_sim/anaconda3/lib/python3.8/site-packages/sklearn/metrics/_classification.py:1245: UndefinedMetricWarning: Recall and F-score are ill-defined and being set to 0.0 in labels with no true samples. Use `zero_division` parameter to control this behavior.\n",
      "  _warn_prf(average, modifier, msg_start, len(result))\n",
      "/home/adv_sim/anaconda3/lib/python3.8/site-packages/sklearn/metrics/_classification.py:1245: UndefinedMetricWarning: Recall and F-score are ill-defined and being set to 0.0 in labels with no true samples. Use `zero_division` parameter to control this behavior.\n",
      "  _warn_prf(average, modifier, msg_start, len(result))\n",
      "/home/adv_sim/anaconda3/lib/python3.8/site-packages/sklearn/metrics/_classification.py:1245: UndefinedMetricWarning: Recall and F-score are ill-defined and being set to 0.0 in labels with no true samples. Use `zero_division` parameter to control this behavior.\n",
      "  _warn_prf(average, modifier, msg_start, len(result))\n",
      "/home/adv_sim/anaconda3/lib/python3.8/site-packages/sklearn/metrics/_classification.py:1245: UndefinedMetricWarning: Recall and F-score are ill-defined and being set to 0.0 in labels with no true samples. Use `zero_division` parameter to control this behavior.\n",
      "  _warn_prf(average, modifier, msg_start, len(result))\n",
      "/home/adv_sim/anaconda3/lib/python3.8/site-packages/sklearn/metrics/_classification.py:1245: UndefinedMetricWarning: Recall and F-score are ill-defined and being set to 0.0 in labels with no true samples. Use `zero_division` parameter to control this behavior.\n",
      "  _warn_prf(average, modifier, msg_start, len(result))\n",
      "/home/adv_sim/anaconda3/lib/python3.8/site-packages/sklearn/metrics/_classification.py:1245: UndefinedMetricWarning: Recall and F-score are ill-defined and being set to 0.0 in labels with no true samples. Use `zero_division` parameter to control this behavior.\n",
      "  _warn_prf(average, modifier, msg_start, len(result))\n",
      "/home/adv_sim/anaconda3/lib/python3.8/site-packages/sklearn/metrics/_classification.py:1245: UndefinedMetricWarning: Recall and F-score are ill-defined and being set to 0.0 in labels with no true samples. Use `zero_division` parameter to control this behavior.\n",
      "  _warn_prf(average, modifier, msg_start, len(result))\n",
      "/home/adv_sim/anaconda3/lib/python3.8/site-packages/sklearn/metrics/_classification.py:1245: UndefinedMetricWarning: Recall and F-score are ill-defined and being set to 0.0 in labels with no true samples. Use `zero_division` parameter to control this behavior.\n",
      "  _warn_prf(average, modifier, msg_start, len(result))\n",
      "/home/adv_sim/anaconda3/lib/python3.8/site-packages/sklearn/metrics/_classification.py:1245: UndefinedMetricWarning: Recall and F-score are ill-defined and being set to 0.0 in labels with no true samples. Use `zero_division` parameter to control this behavior.\n",
      "  _warn_prf(average, modifier, msg_start, len(result))\n",
      "/home/adv_sim/anaconda3/lib/python3.8/site-packages/sklearn/metrics/_classification.py:1245: UndefinedMetricWarning: Recall and F-score are ill-defined and being set to 0.0 in labels with no true samples. Use `zero_division` parameter to control this behavior.\n",
      "  _warn_prf(average, modifier, msg_start, len(result))\n",
      "/home/adv_sim/anaconda3/lib/python3.8/site-packages/sklearn/metrics/_classification.py:1245: UndefinedMetricWarning: Recall and F-score are ill-defined and being set to 0.0 in labels with no true samples. Use `zero_division` parameter to control this behavior.\n",
      "  _warn_prf(average, modifier, msg_start, len(result))\n",
      "/home/adv_sim/anaconda3/lib/python3.8/site-packages/sklearn/metrics/_classification.py:1245: UndefinedMetricWarning: Recall and F-score are ill-defined and being set to 0.0 in labels with no true samples. Use `zero_division` parameter to control this behavior.\n",
      "  _warn_prf(average, modifier, msg_start, len(result))\n",
      "/home/adv_sim/anaconda3/lib/python3.8/site-packages/sklearn/metrics/_classification.py:1245: UndefinedMetricWarning: Recall and F-score are ill-defined and being set to 0.0 in labels with no true samples. Use `zero_division` parameter to control this behavior.\n",
      "  _warn_prf(average, modifier, msg_start, len(result))\n",
      "/home/adv_sim/anaconda3/lib/python3.8/site-packages/sklearn/metrics/_classification.py:1245: UndefinedMetricWarning: Recall and F-score are ill-defined and being set to 0.0 in labels with no true samples. Use `zero_division` parameter to control this behavior.\n",
      "  _warn_prf(average, modifier, msg_start, len(result))\n",
      "/home/adv_sim/anaconda3/lib/python3.8/site-packages/sklearn/metrics/_classification.py:1245: UndefinedMetricWarning: Recall and F-score are ill-defined and being set to 0.0 in labels with no true samples. Use `zero_division` parameter to control this behavior.\n",
      "  _warn_prf(average, modifier, msg_start, len(result))\n",
      "/home/adv_sim/anaconda3/lib/python3.8/site-packages/sklearn/metrics/_classification.py:1245: UndefinedMetricWarning: Recall and F-score are ill-defined and being set to 0.0 in labels with no true samples. Use `zero_division` parameter to control this behavior.\n",
      "  _warn_prf(average, modifier, msg_start, len(result))\n",
      "/home/adv_sim/anaconda3/lib/python3.8/site-packages/sklearn/metrics/_classification.py:1245: UndefinedMetricWarning: Recall and F-score are ill-defined and being set to 0.0 in labels with no true samples. Use `zero_division` parameter to control this behavior.\n",
      "  _warn_prf(average, modifier, msg_start, len(result))\n"
     ]
    }
   ],
   "source": [
    "actual_val_fold = i\n",
    "cum_report = None\n",
    "cnf = np.zeros([len(set(result[0]['label'])),len(set(result[0]['label']))])\n",
    "labels = list(set(result[0]['label']))\n",
    "for r in result:\n",
    "    report = metrics.classification_report(r['predictions'], r['label'], output_dict=True)\n",
    "    cnf = (cnf + metrics.confusion_matrix(r['predictions'], r['label'], labels=labels)) / 2\n",
    "    if cum_report == None:\n",
    "        cum_report = report\n",
    "    else:\n",
    "        for k in report.keys():\n",
    "            if k != 'accuracy':\n",
    "                cum_report[k]['precision'] = (cum_report[k]['precision'] + report[k]['precision']) / 2\n",
    "                cum_report[k]['recall'] = (cum_report[k]['recall'] + report[k]['recall']) / 2\n",
    "                cum_report[k]['f1-score'] = (cum_report[k]['f1-score'] + report[k]['f1-score']) / 2\n",
    "                cum_report[k]['support'] = (cum_report[k]['support'] + report[k]['support']) / 2\n",
    "            else:\n",
    "                cum_report[k] = (cum_report[k] + report[k]) / 2"
   ]
  },
  {
   "cell_type": "code",
   "execution_count": 9,
   "id": "e442c731",
   "metadata": {},
   "outputs": [],
   "source": [
    "import pandas as pd\n",
    "import seaborn as sns\n",
    "import matplotlib.pyplot as plt"
   ]
  },
  {
   "cell_type": "code",
   "execution_count": 10,
   "id": "22cd7d57",
   "metadata": {},
   "outputs": [
    {
     "data": {
      "text/plain": [
       "['Volatile Cedar',\n",
       " 'Sandwork',\n",
       " 'Mirage',\n",
       " 'Hurricane Panda',\n",
       " 'Desert Falcon',\n",
       " 'APT30',\n",
       " 'APT29',\n",
       " 'Patchwork',\n",
       " 'Carbanak',\n",
       " 'Transparent Tribe',\n",
       " 'Shiqiang',\n",
       " 'APT28',\n",
       " 'Winnti Group',\n",
       " 'Lazarus Group',\n",
       " 'Violin Panda']"
      ]
     },
     "execution_count": 10,
     "metadata": {},
     "output_type": "execute_result"
    }
   ],
   "source": [
    "labels"
   ]
  },
  {
   "cell_type": "code",
   "execution_count": 11,
   "id": "2e6f7c95",
   "metadata": {
    "scrolled": false
   },
   "outputs": [
    {
     "data": {
      "image/png": "[encoded data removed]",
      "text/plain": [
       "<Figure size 720x720 with 2 Axes>"
      ]
     },
     "metadata": {
      "needs_background": "light"
     },
     "output_type": "display_data"
    }
   ],
   "source": [
    "df_cm = pd.DataFrame(cnf, index=labels, columns=labels)\n",
    "df_cm = df_cm.div(df_cm.sum(axis=1), axis=0)\n",
    "fig = plt.figure(figsize=(10,10))\n",
    "heatmap = sns.heatmap(df_cm, annot=True, fmt=\".2f\", square=True, cmap = sns.cm.rocket_r)\n",
    "plt.savefig(\"confusion_matrix_cross_val_svm.png\")"
   ]
  },
  {
   "cell_type": "markdown",
   "id": "3824f08f",
   "metadata": {},
   "source": [
    "Here we can see the confusion matrix which is an average over the 5-fold cross validation tests. From the confusion matrix, we can see that there are specific APT groups on which the analyzed model performs badly, as is evident from the groups Violin Panda and APT28. Violin Panda is often mistaken with Patchwork. This result can be reduced to two reasons: first, looking at [8], this second APT group is known for reusing code from other sources; secondly, our dataset is unbalanced toward Patchwork. \n",
    "Another interesting case is about APT28 and APT29; both are attributed to Russia so, this is probably the reason why APT28 is confused with APT29.\n",
    "Some of these results are comparable with the ones provided by [3]. However, as for other tasks, Gemini achieves poor results compared to SAFE.\n",
    "\n",
    "Same results are also confirmed by the classification results reported below. Also in this case the reported results are an average over the 5-fold cross validation tests. According to F1-score, the worst performances are on Violin Panda and Carbanak, as shown in the confusion matrix."
   ]
  },
  {
   "cell_type": "code",
   "execution_count": 12,
   "id": "2b821181",
   "metadata": {},
   "outputs": [],
   "source": [
    "report = pd.DataFrame(cum_report).T.round(3)"
   ]
  },
  {
   "cell_type": "code",
   "execution_count": 13,
   "id": "21bb579f",
   "metadata": {},
   "outputs": [
    {
     "data": {
      "text/html": [
       "<div>\n",
       "<style scoped>\n",
       "    .dataframe tbody tr th:only-of-type {\n",
       "        vertical-align: middle;\n",
       "    }\n",
       "\n",
       "    .dataframe tbody tr th {\n",
       "        vertical-align: top;\n",
       "    }\n",
       "\n",
       "    .dataframe thead th {\n",
       "        text-align: right;\n",
       "    }\n",
       "</style>\n",
       "<table border=\"1\" class=\"dataframe\">\n",
       "  <thead>\n",
       "    <tr style=\"text-align: right;\">\n",
       "      <th></th>\n",
       "      <th>precision</th>\n",
       "      <th>recall</th>\n",
       "      <th>f1-score</th>\n",
       "      <th>support</th>\n",
       "    </tr>\n",
       "  </thead>\n",
       "  <tbody>\n",
       "    <tr>\n",
       "      <th>APT28</th>\n",
       "      <td>0.451</td>\n",
       "      <td>0.567</td>\n",
       "      <td>0.502</td>\n",
       "      <td>10.352</td>\n",
       "    </tr>\n",
       "    <tr>\n",
       "      <th>APT29</th>\n",
       "      <td>0.789</td>\n",
       "      <td>0.871</td>\n",
       "      <td>0.827</td>\n",
       "      <td>36.216</td>\n",
       "    </tr>\n",
       "    <tr>\n",
       "      <th>APT30</th>\n",
       "      <td>0.853</td>\n",
       "      <td>0.922</td>\n",
       "      <td>0.885</td>\n",
       "      <td>14.819</td>\n",
       "    </tr>\n",
       "    <tr>\n",
       "      <th>Carbanak</th>\n",
       "      <td>0.782</td>\n",
       "      <td>0.766</td>\n",
       "      <td>0.717</td>\n",
       "      <td>16.944</td>\n",
       "    </tr>\n",
       "    <tr>\n",
       "      <th>Desert Falcon</th>\n",
       "      <td>0.740</td>\n",
       "      <td>0.943</td>\n",
       "      <td>0.828</td>\n",
       "      <td>7.087</td>\n",
       "    </tr>\n",
       "    <tr>\n",
       "      <th>Hurricane Panda</th>\n",
       "      <td>0.861</td>\n",
       "      <td>0.984</td>\n",
       "      <td>0.918</td>\n",
       "      <td>54.262</td>\n",
       "    </tr>\n",
       "    <tr>\n",
       "      <th>Lazarus Group</th>\n",
       "      <td>0.932</td>\n",
       "      <td>0.729</td>\n",
       "      <td>0.814</td>\n",
       "      <td>15.470</td>\n",
       "    </tr>\n",
       "    <tr>\n",
       "      <th>Mirage</th>\n",
       "      <td>0.732</td>\n",
       "      <td>0.772</td>\n",
       "      <td>0.750</td>\n",
       "      <td>10.437</td>\n",
       "    </tr>\n",
       "    <tr>\n",
       "      <th>Patchwork</th>\n",
       "      <td>0.943</td>\n",
       "      <td>0.867</td>\n",
       "      <td>0.903</td>\n",
       "      <td>113.553</td>\n",
       "    </tr>\n",
       "    <tr>\n",
       "      <th>Sandwork</th>\n",
       "      <td>0.810</td>\n",
       "      <td>0.624</td>\n",
       "      <td>0.589</td>\n",
       "      <td>16.957</td>\n",
       "    </tr>\n",
       "    <tr>\n",
       "      <th>Shiqiang</th>\n",
       "      <td>0.569</td>\n",
       "      <td>0.979</td>\n",
       "      <td>0.706</td>\n",
       "      <td>3.540</td>\n",
       "    </tr>\n",
       "    <tr>\n",
       "      <th>Transparent Tribe</th>\n",
       "      <td>0.911</td>\n",
       "      <td>0.897</td>\n",
       "      <td>0.901</td>\n",
       "      <td>11.208</td>\n",
       "    </tr>\n",
       "    <tr>\n",
       "      <th>Violin Panda</th>\n",
       "      <td>0.066</td>\n",
       "      <td>0.055</td>\n",
       "      <td>0.060</td>\n",
       "      <td>0.403</td>\n",
       "    </tr>\n",
       "    <tr>\n",
       "      <th>Volatile Cedar</th>\n",
       "      <td>0.724</td>\n",
       "      <td>1.000</td>\n",
       "      <td>0.839</td>\n",
       "      <td>5.068</td>\n",
       "    </tr>\n",
       "    <tr>\n",
       "      <th>Winnti Group</th>\n",
       "      <td>0.907</td>\n",
       "      <td>0.890</td>\n",
       "      <td>0.897</td>\n",
       "      <td>30.688</td>\n",
       "    </tr>\n",
       "    <tr>\n",
       "      <th>accuracy</th>\n",
       "      <td>0.839</td>\n",
       "      <td>0.839</td>\n",
       "      <td>0.839</td>\n",
       "      <td>0.839</td>\n",
       "    </tr>\n",
       "    <tr>\n",
       "      <th>macro avg</th>\n",
       "      <td>0.738</td>\n",
       "      <td>0.791</td>\n",
       "      <td>0.742</td>\n",
       "      <td>347.004</td>\n",
       "    </tr>\n",
       "    <tr>\n",
       "      <th>weighted avg</th>\n",
       "      <td>0.873</td>\n",
       "      <td>0.839</td>\n",
       "      <td>0.839</td>\n",
       "      <td>347.004</td>\n",
       "    </tr>\n",
       "  </tbody>\n",
       "</table>\n",
       "</div>"
      ],
      "text/plain": [
       "                   precision  recall  f1-score  support\n",
       "APT28                  0.451   0.567     0.502   10.352\n",
       "APT29                  0.789   0.871     0.827   36.216\n",
       "APT30                  0.853   0.922     0.885   14.819\n",
       "Carbanak               0.782   0.766     0.717   16.944\n",
       "Desert Falcon          0.740   0.943     0.828    7.087\n",
       "Hurricane Panda        0.861   0.984     0.918   54.262\n",
       "Lazarus Group          0.932   0.729     0.814   15.470\n",
       "Mirage                 0.732   0.772     0.750   10.437\n",
       "Patchwork              0.943   0.867     0.903  113.553\n",
       "Sandwork               0.810   0.624     0.589   16.957\n",
       "Shiqiang               0.569   0.979     0.706    3.540\n",
       "Transparent Tribe      0.911   0.897     0.901   11.208\n",
       "Violin Panda           0.066   0.055     0.060    0.403\n",
       "Volatile Cedar         0.724   1.000     0.839    5.068\n",
       "Winnti Group           0.907   0.890     0.897   30.688\n",
       "accuracy               0.839   0.839     0.839    0.839\n",
       "macro avg              0.738   0.791     0.742  347.004\n",
       "weighted avg           0.873   0.839     0.839  347.004"
      ]
     },
     "execution_count": 13,
     "metadata": {},
     "output_type": "execute_result"
    }
   ],
   "source": [
    "report"
   ]
  },
  {
   "cell_type": "markdown",
   "id": "2f6b7080",
   "metadata": {},
   "source": [
    "# Conclusions"
   ]
  },
  {
   "cell_type": "markdown",
   "id": "e6ab1914",
   "metadata": {},
   "source": [
    "Models for binary similarity are not malware/non-malware classifiers; they can be mostly considered as an help for the malware analyst during the real analysis and for this reason they are trained only with benign software. In this work, we have shown that even if the considered binary similarity model has been trained only on benign software to recognize similar functions, it can also provide us with helpful information about entire programs and malicious software. In conclusion, even if the results provided by our work are not comparable to malware classifiers, we believe that they are pretty interesting considering the original task the model was designed for."
   ]
  },
  {
   "cell_type": "markdown",
   "id": "8211674e",
   "metadata": {},
   "source": [
    "# Bibliography"
   ]
  },
  {
   "cell_type": "markdown",
   "id": "7094e2fd",
   "metadata": {},
   "source": [
    "[1] S.H. Ding, B.C. Fung, and P. Charland. 2019. Asm2vec: Boosting static representation robustness for binary clone search against code obfuscation and compiler optimization. In 2019 IEEE Symposium on Security and Privacy (SP). IEEE, 472–489.  \n",
    "[2] X. Xu, C. Liu, Q. Feng, H. Yin, L. Song, and D. Song. 2017. Neural network-based graph embedding for cross-platform binary code similarity detection. In Proceedings of the 2017 ACM SIGSAC Conference on Computer and Communications Security. 363–376.  \n",
    "[3] L. Massarelli, G.A. Di Luna, F.Petroni, R. Baldoni, and L. Querzoni. 2019. Safe: Self-attentive function embeddings for binary similarity. In International Conference on Detection of Intrusions and Malware, and Vulnerability Assessment. 309-329. Springer, Cham.  \n",
    "[4] Y. David, and E. Yahav. 2014. Tracelet-based code search in executables. In ACM SIGPLAN Conference on Programming Language Design and Implementation, PLDI. ACM, 349–360.  \n",
    "[5] T.Dullien, and R.Rolles. Graph-based comparison of executable objects (english version). In Proceedings of Symposium sur la sécurité des technologies de l’information et des communications (SSTIC), Vol. 5. 3.  \n",
    "[6] J. Pewny, F. Schuster, L. Bernhard, T. Holz, and C. Rossow. 2014. Leveraging semantic signatures for bug search in binary programs. In Proceedings of the 30th Annual Computer Security Applications Conference, ACSAC. ACM, 406–415.\n",
    "[2] Y. Chen, E. K. Garcia, M. R. Gupta, A. Rahimi, and L. Cazzanti. 2009. Similarity-based classification: Concepts and algorithms. In Journal of Machine Learning Research 10.3. 747–776.  \n",
    "[7]  G. Laurenza and R. Lazzeretti. dAPTaset: A comprehensive mapping of APT-related data. 2019. In Proc. 1st Int. Workshop Secur. Financial Critical Infrastructures Services. 217–225.   \n",
    "[8] Mitre Att&ck Patchwork, https://attack.mitre.org/groups/G0040/"
   ]
  }
 ],
 "metadata": {
  "kernelspec": {
   "display_name": "Python 3",
   "language": "python",
   "name": "python3"
  },
  "language_info": {
   "codemirror_mode": {
    "name": "ipython",
    "version": 3
   },
   "file_extension": ".py",
   "mimetype": "text/x-python",
   "name": "python",
   "nbconvert_exporter": "python",
   "pygments_lexer": "ipython3",
   "version": "3.8.8"
  }
 },
 "nbformat": 4,
 "nbformat_minor": 5
}
